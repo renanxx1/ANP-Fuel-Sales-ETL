{
 "cells": [
  {
   "cell_type": "code",
   "execution_count": 1,
   "metadata": {},
   "outputs": [],
   "source": [
    "# %pip install requests==2.28.1\n",
    "# %pip install pandas==1.5.2\n",
    "# %pip install openpyxl==2.6.3\n",
    "# %pip install xlwings==0.30.12"
   ]
  },
  {
   "cell_type": "markdown",
   "metadata": {},
   "source": [
    "IMPORT DE BIBLIOTECAS UTILIZADAS"
   ]
  },
  {
   "cell_type": "code",
   "execution_count": 2,
   "metadata": {},
   "outputs": [],
   "source": [
    "import requests\n",
    "import pandas as pd\n",
    "import xlwings as xw\n",
    "from openpyxl import load_workbook"
   ]
  },
  {
   "cell_type": "markdown",
   "metadata": {},
   "source": [
    "EXTRAÇÃO DOS DADOS"
   ]
  },
  {
   "cell_type": "code",
   "execution_count": 3,
   "metadata": {},
   "outputs": [
    {
     "name": "stdout",
     "output_type": "stream",
     "text": [
      "Arquivo Excel baixado com sucesso.\n"
     ]
    }
   ],
   "source": [
    "# Define a URL do arquivo Excel a ser baixado\n",
    "url = \"https://raw.githubusercontent.com/raizen-analytics/data-engineering-test/master/assets/vendas-combustiveis-m3.xls\"\n",
    "\n",
    "# Envia uma solicitação HTTP para a URL especificada\n",
    "response = requests.get(url)\n",
    "\n",
    "# Verifica se a resposta HTTP tem o código de status 200 (OK)\n",
    "if response.status_code == 200:\n",
    "    # Se o status for 200, abre um arquivo local em modo de escrita binária (wb) e escreve o conteudo\n",
    "    with open(\"assets/vendas-combustiveis-m3.xls\", \"wb\") as excel_file:\n",
    "        excel_file.write(response.content)\n",
    "    print(f\"Arquivo Excel baixado com sucesso.\")\n",
    "else:\n",
    "    # Se o status não for 200, exibe uma mensagem informando que o arquivo não pôde ser baixado\n",
    "    print(f\"Não foi possível baixar o arquivo. Código de status: {response.status_code}\")\n"
   ]
  },
  {
   "cell_type": "markdown",
   "metadata": {},
   "source": [
    "CONVERSÃO DE TIPO DE ARQUIVO"
   ]
  },
  {
   "cell_type": "code",
   "execution_count": 4,
   "metadata": {},
   "outputs": [
    {
     "name": "stdout",
     "output_type": "stream",
     "text": [
      "Arquivo convertido: 'assets/vendas-combustiveis-m3.xlsx'\n"
     ]
    }
   ],
   "source": [
    "# Esta seção do código realiza a conversão de um arquivo do tipo XLS para XLSX\n",
    "# a fim de aproveitar os recursos mais modernos das bibliotecas.\n",
    "file_path_name = \"assets/vendas-combustiveis-m3\"\n",
    "app = xw.App(visible=False)  # Inicializa o aplicativo Excel invisivelmente\n",
    "workbook = app.books.open(f'{file_path_name}.xls')  # Abre o arquivo XLS\n",
    "workbook.save(f'{file_path_name}.xlsx')  # Salva o arquivo convertido como XLSX\n",
    "\n",
    "workbook.close()  # Fecha o arquivo original\n",
    "app.quit()  # Fecha o aplicativo Excel\n",
    "\n",
    "print(f\"Arquivo convertido: '{file_path_name}.xlsx'\")  # Exibe uma mensagem informando o nome do arquivo convertido\n"
   ]
  },
  {
   "cell_type": "markdown",
   "metadata": {},
   "source": [
    "LEITURA E SELEÇÃO DE SHEET"
   ]
  },
  {
   "cell_type": "code",
   "execution_count": 5,
   "metadata": {},
   "outputs": [],
   "source": [
    "# Carrega o arquivo XLSX \"vendas-combustiveis-m3.xlsx\" utilizando a biblioteca correspondente\n",
    "workbook = load_workbook(\"assets/vendas-combustiveis-m3.xlsx\")\n",
    "\n",
    "# Seleciona a planilha chamada \"Plan1\" dentro do arquivo XLSX carregado\n",
    "worksheet_selected = workbook['Plan1']"
   ]
  },
  {
   "cell_type": "markdown",
   "metadata": {},
   "source": [
    "FUNÇÃO PARA CONVERTER PIVOT EM DATAFRAME"
   ]
  },
  {
   "cell_type": "code",
   "execution_count": 6,
   "metadata": {},
   "outputs": [],
   "source": [
    "def convert_pivot_cache_to_df(pivot_cache):\n",
    "    rows = []  # Lista de linhas\n",
    "    cols = {}  # Dicionário de colunas\n",
    "\n",
    "    # Itera sobre as colunas no cache de tabela dinâmica e cria um dicionário de colunas\n",
    "    for col in pivot_cache.cacheFields:\n",
    "        cols[col.name] = col.name\n",
    "\n",
    "    # Itera sobre os registros no cache de tabela dinâmica e cria listas de valores por registro\n",
    "    for index in pivot_cache.records.r:\n",
    "        row = []\n",
    "        for value in index._fields:\n",
    "            try:\n",
    "                row.append(value.v)\n",
    "            except AttributeError:\n",
    "                row.append(None)\n",
    "\n",
    "        rows.append(row)  # Adiciona a lista de valores à lista de linhas\n",
    "\n",
    "    # Cria um DataFrame do pandas a partir das colunas e dados coletados\n",
    "    df = pd.DataFrame(columns=cols, data=rows)\n",
    "\n",
    "    return df"
   ]
  },
  {
   "cell_type": "markdown",
   "metadata": {},
   "source": [
    "CRIAÇÃO DE DATAFRAMES"
   ]
  },
  {
   "cell_type": "code",
   "execution_count": 7,
   "metadata": {},
   "outputs": [],
   "source": [
    "# Converte o cache de tabela dinâmica de óleo (oil) em um DataFrame\n",
    "df_oil = convert_pivot_cache_to_df(worksheet_selected._pivots[3].cache)\n",
    "\n",
    "# Converte o cache de tabela dinâmica de diesel em um DataFrame\n",
    "df_diesel = convert_pivot_cache_to_df(worksheet_selected._pivots[1].cache)"
   ]
  },
  {
   "cell_type": "markdown",
   "metadata": {},
   "source": [
    "TRANSFORMAÇÃO DE COLUNA PARA LINHAS"
   ]
  },
  {
   "cell_type": "code",
   "execution_count": 8,
   "metadata": {},
   "outputs": [],
   "source": [
    "# Transforma o DataFrame df_oil e df_diesel utilizando a função `pd.melt`\n",
    "# Mantém as colunas 'COMBUSTÍVEL', 'REGIÃO', 'ANO', 'ESTADO', 'UNIDADE' e 'TOTAL' como identificadores\n",
    "\n",
    "df_oil_transformed = pd.melt(df_oil,\n",
    "                             id_vars=['COMBUSTÍVEL', 'REGIÃO', 'ANO', 'ESTADO', 'UNIDADE', 'TOTAL'],\n",
    "                             var_name='mes',\n",
    "                             value_name='volume')\n",
    "\n",
    "\n",
    "df_diesel_transformed = pd.melt(df_diesel,\n",
    "                                id_vars=['COMBUSTÍVEL', 'REGIÃO', 'ANO', 'ESTADO', 'UNIDADE', 'TOTAL'],\n",
    "                                var_name='mes',\n",
    "                                value_name='volume')\n"
   ]
  },
  {
   "cell_type": "markdown",
   "metadata": {},
   "source": [
    "CONVERSÃO DE COLUNAS DE MES E ANO"
   ]
  },
  {
   "cell_type": "code",
   "execution_count": 9,
   "metadata": {},
   "outputs": [],
   "source": [
    "# Dicionário de mapeamento de nome do mês para mês numérico\n",
    "month_mapping = {\n",
    "    'Jan': '01',\n",
    "    'Fev': '02',\n",
    "    'Mar': '03',\n",
    "    'Abr': '04',\n",
    "    'Mai': '05',\n",
    "    'Jun': '06',\n",
    "    'Jul': '07',\n",
    "    'Ago': '08',\n",
    "    'Set': '09',\n",
    "    'Out': '10',\n",
    "    'Nov': '11',\n",
    "    'Dez': '12'\n",
    "}\n",
    "\n",
    "# Dicionário de mapeamento do ano correspondente\n",
    "year_mapping = {0: '2000', \n",
    "                1: '2001',\n",
    "                2: '2002',\n",
    "                3: '2003',\n",
    "                4: '2004',\n",
    "                5: '2005',\n",
    "                6: '2006',\n",
    "                7: '2007',\n",
    "                8: '2008',\n",
    "                9: '2009',\n",
    "                10: '2010',\n",
    "                11: '2011',\n",
    "                12: '2012',\n",
    "                13: '2013',\n",
    "                14: '2014',\n",
    "                15: '2015',\n",
    "                16: '2016',\n",
    "                17: '2017',\n",
    "                18: '2018',\n",
    "                19: '2019',\n",
    "                20: '2020'}\n",
    "\n",
    "\n",
    "# Mapeia os valores da coluna 'mes' e 'ANO' do DataFrame df_oil_transformed\n",
    "# para seus equivalentes numéricos usando o dicionário de mapeamento month_mapping e year_mapping\n",
    "df_oil_transformed['mes'] = df_oil_transformed['mes'].map(month_mapping)\n",
    "df_oil_transformed['ANO'] = df_oil_transformed['ANO'].map(year_mapping)\n",
    "\n",
    "# Mapeia os valores da coluna 'mes' e 'ANO' do DataFrame df_diesel_transformed\n",
    "# para seus equivalentes numéricos usando o dicionário de mapeamento month_mapping e year_mapping\n",
    "df_diesel_transformed['mes'] = df_diesel_transformed['mes'].map(month_mapping)\n",
    "df_diesel_transformed['ANO'] = df_diesel_transformed['ANO'].map(year_mapping)"
   ]
  },
  {
   "cell_type": "markdown",
   "metadata": {},
   "source": [
    "CRIAÇÃO DE COLUNA ANO_MES"
   ]
  },
  {
   "cell_type": "code",
   "execution_count": 10,
   "metadata": {},
   "outputs": [],
   "source": [
    "# Cria uma coluna 'year_month' nos DataFrame que combina as colunas 'ANO' e 'mes'\n",
    "df_oil_transformed['year_month'] = df_oil_transformed['ANO'] + '-' + df_oil_transformed['mes']\n",
    "df_diesel_transformed['year_month'] = df_diesel_transformed['ANO'] + '-' + df_diesel_transformed['mes']\n",
    "\n",
    "# Converte a coluna 'year_month' em um formato de data, representando o ano e mês\n",
    "df_oil_transformed['year_month'] = pd.to_datetime(df_oil_transformed['year_month'], format=\"%Y-%m\").dt.date\n",
    "df_diesel_transformed['year_month'] = pd.to_datetime(df_diesel_transformed['year_month'], format=\"%Y-%m\").dt.date\n"
   ]
  },
  {
   "cell_type": "markdown",
   "metadata": {},
   "source": [
    "REMOÇÃO DE VALORES NAN"
   ]
  },
  {
   "cell_type": "code",
   "execution_count": 11,
   "metadata": {},
   "outputs": [],
   "source": [
    "# Preenche valores ausentes (NaN) no DataFrame com 0\n",
    "df_oil_transformed = df_oil_transformed.fillna(0)\n",
    "df_diesel_transformed = df_diesel_transformed.fillna(0)\n"
   ]
  },
  {
   "cell_type": "markdown",
   "metadata": {},
   "source": [
    "RENOMEIA COLUNAS E APLICA TIPAGEM"
   ]
  },
  {
   "cell_type": "code",
   "execution_count": 12,
   "metadata": {},
   "outputs": [],
   "source": [
    "# Mapeia nomes de colunas em ambos os DataFrames\n",
    "column_name_mapping = {\n",
    "    \"ESTADO\": \"uf\",\n",
    "    \"UNIDADE\": \"unit\",\n",
    "    \"COMBUSTÍVEL\": \"product\"\n",
    "}\n",
    "\n",
    "\n",
    "# Renomeia colunas do DataFrame df_oil_transformed\n",
    "df_oil_transformed = df_oil_transformed.rename(columns=column_name_mapping)\n",
    "df_diesel_transformed = df_diesel_transformed.rename(columns=column_name_mapping)\n",
    "\n",
    "# Renomeia colunas do DataFrame df_oil_transformed\n",
    "df_oil_transformed['created_at'] = pd.to_datetime('today')\n",
    "df_diesel_transformed['created_at'] = pd.to_datetime('today')\n",
    "\n",
    "# Seleciona as colunas necessarias do DF\n",
    "df_oil_transformed = df_oil_transformed[['year_month', 'uf', 'product', 'unit', 'volume', 'created_at']]\n",
    "df_diesel_transformed = df_diesel_transformed[['year_month', 'uf', 'product', 'unit', 'volume', 'created_at']]\n",
    "\n",
    "# Define os tipos de dados das colunas no DataFrame\n",
    "df_oil_transformed = df_oil_transformed.astype({ 'uf': 'str', 'product': 'str', 'unit': 'str', 'volume': 'float64', 'created_at': 'datetime64[ns]'})\n",
    "df_diesel_transformed = df_diesel_transformed.astype({'uf': 'str', 'product': 'str', 'unit': 'str', 'volume': 'float64', 'created_at': 'datetime64[ns]'})"
   ]
  },
  {
   "cell_type": "markdown",
   "metadata": {},
   "source": [
    "EFETUA ESCRITA DO DADO EM PARQUET PARTICIONADO PELA COLUNA YEAR_MONTH"
   ]
  },
  {
   "cell_type": "code",
   "execution_count": 13,
   "metadata": {},
   "outputs": [],
   "source": [
    "# Calcula a proporção da soma da coluna 'TOTAL' no DataFrame inicial\n",
    "# em relação à soma da coluna 'volume' no DataFrame com transformaçoes.\n",
    "# Se a proporção for maior ou igual a 0.999999, salva o DataFrame em formato Parquet\n",
    "\n",
    "if df_diesel['TOTAL'].sum() / df_diesel_transformed['volume'].sum() >= 0.999999:\n",
    "    df_diesel_transformed.to_parquet('assets/diesel_processed', partition_cols=['year_month'])\n",
    "\n",
    "if df_oil['TOTAL'].sum() / df_oil_transformed['volume'].sum() >= 0.999999:\n",
    "    df_oil_transformed.to_parquet('assets/oil_processed', partition_cols=['year_month'])\n"
   ]
  }
 ],
 "metadata": {
  "kernelspec": {
   "display_name": "Python 3",
   "language": "python",
   "name": "python3"
  },
  "language_info": {
   "codemirror_mode": {
    "name": "ipython",
    "version": 3
   },
   "file_extension": ".py",
   "mimetype": "text/x-python",
   "name": "python",
   "nbconvert_exporter": "python",
   "pygments_lexer": "ipython3",
   "version": "3.10.7"
  }
 },
 "nbformat": 4,
 "nbformat_minor": 2
}
